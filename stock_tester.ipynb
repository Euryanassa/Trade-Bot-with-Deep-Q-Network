{
 "cells": [
  {
   "cell_type": "code",
   "execution_count": 24,
   "id": "8e6aeea5",
   "metadata": {},
   "outputs": [],
   "source": [
    "from environment import *\n",
    "from stock_obtain import *\n",
    "from test_trader import * \n",
    "from trader_file import *\n",
    "import matplotlib.pyplot as plt\n",
    "import warnings\n",
    "warnings.filterwarnings(\"ignore\")"
   ]
  },
  {
   "cell_type": "code",
   "execution_count": 25,
   "id": "0016dd4b",
   "metadata": {},
   "outputs": [],
   "source": [
    "number_of_episodes = 50"
   ]
  },
  {
   "cell_type": "code",
   "execution_count": 26,
   "id": "58ac8bf2",
   "metadata": {},
   "outputs": [
    {
     "name": "stderr",
     "output_type": "stream",
     "text": [
      "2022-07-22 23:32:50.122186: I tensorflow/core/grappler/optimizers/custom_graph_optimizer_registry.cc:113] Plugin optimizer for device_type GPU is enabled.\n",
      "2022-07-22 23:32:50.289799: I tensorflow/core/grappler/optimizers/custom_graph_optimizer_registry.cc:113] Plugin optimizer for device_type GPU is enabled.\n"
     ]
    },
    {
     "name": "stdout",
     "output_type": "stream",
     "text": [
      "episode: 1/50, episode end value: 21189.36\n",
      "episode: 2/50, episode end value: 29053.59\n",
      "episode: 3/50, episode end value: 32081.31\n",
      "episode: 4/50, episode end value: 29165.20\n",
      "episode: 5/50, episode end value: 29280.57\n",
      "episode: 6/50, episode end value: 29589.79\n",
      "episode: 7/50, episode end value: 28916.34\n",
      "episode: 8/50, episode end value: 29501.20\n",
      "episode: 9/50, episode end value: 30978.03\n",
      "episode: 10/50, episode end value: 29553.91\n",
      "episode: 11/50, episode end value: 29504.05\n",
      "episode: 12/50, episode end value: 30139.85\n",
      "episode: 13/50, episode end value: 27763.15\n",
      "episode: 14/50, episode end value: 29442.51\n",
      "episode: 15/50, episode end value: 32009.69\n",
      "episode: 16/50, episode end value: 29666.58\n",
      "episode: 17/50, episode end value: 29670.83\n",
      "episode: 18/50, episode end value: 77522.81\n",
      "episode: 19/50, episode end value: 26494.75\n",
      "episode: 20/50, episode end value: 29265.31\n",
      "episode: 21/50, episode end value: 29502.45\n",
      "episode: 22/50, episode end value: 29033.50\n",
      "episode: 23/50, episode end value: 30467.97\n",
      "episode: 24/50, episode end value: 24262.71\n",
      "episode: 25/50, episode end value: 29504.05\n",
      "episode: 26/50, episode end value: 29504.05\n",
      "episode: 27/50, episode end value: 30176.09\n",
      "episode: 28/50, episode end value: 29504.05\n",
      "episode: 29/50, episode end value: 29504.05\n",
      "episode: 30/50, episode end value: 28809.34\n",
      "episode: 31/50, episode end value: 29504.05\n",
      "episode: 32/50, episode end value: 29062.80\n",
      "episode: 33/50, episode end value: 28199.40\n",
      "episode: 34/50, episode end value: 29540.48\n",
      "episode: 35/50, episode end value: 29456.26\n",
      "episode: 36/50, episode end value: 29504.05\n",
      "episode: 37/50, episode end value: 30259.32\n",
      "episode: 38/50, episode end value: 30978.03\n",
      "episode: 39/50, episode end value: 29416.05\n",
      "episode: 40/50, episode end value: 29504.05\n",
      "episode: 41/50, episode end value: 28603.39\n",
      "episode: 42/50, episode end value: 27854.20\n",
      "episode: 43/50, episode end value: 24702.99\n",
      "episode: 44/50, episode end value: 29521.10\n",
      "episode: 45/50, episode end value: 29405.62\n",
      "episode: 46/50, episode end value: 22097.50\n",
      "episode: 47/50, episode end value: 27882.97\n",
      "episode: 48/50, episode end value: 33635.52\n",
      "episode: 49/50, episode end value: 29345.88\n",
      "episode: 50/50, episode end value: 29106.56\n",
      "INFO:tensorflow:Assets written to: DQN_Trained_Model/assets\n"
     ]
    }
   ],
   "source": [
    "training_output = trader(stocks = ['AAPL','MSI','SBUX','GME','GOOGL'],\n",
    "                         start_date = '2021-01-01',\n",
    "                         end_date = datetime.strftime(datetime.now() - timedelta(1), '%Y-%m-%d'),\n",
    "                         initial_investment = 20000,\n",
    "                         gamma = 0.95,  # discount rate\n",
    "                         epsilon = 1.0,  # exploration rate\n",
    "                         epsilon_min = 0.01,\n",
    "                         epsilon_decay = 0.995,\n",
    "                         num_episodes = number_of_episodes,\n",
    "                         save_model = True)"
   ]
  },
  {
   "cell_type": "markdown",
   "id": "37f57424",
   "metadata": {},
   "source": [
    "# Testing Success of Environment"
   ]
  },
  {
   "cell_type": "code",
   "execution_count": 27,
   "id": "d52d42c4",
   "metadata": {},
   "outputs": [],
   "source": [
    "df = stock_data(stock_name_list = ['AAPL','MSI','SBUX','GME','GOOGL'],\n",
    "                start_date = '2021-01-01', \n",
    "                end_date = datetime.strftime(datetime.now() - timedelta(1), '%Y-%m-%d'))"
   ]
  },
  {
   "cell_type": "code",
   "execution_count": 28,
   "id": "9bcdb03b",
   "metadata": {},
   "outputs": [],
   "source": [
    "n_timesteps, n_stocks = df.shape\n",
    "n_train = n_timesteps // 2\n",
    "\n",
    "train_data = df[:n_train].values\n",
    "test_data = df[n_train:].values"
   ]
  },
  {
   "cell_type": "code",
   "execution_count": 29,
   "id": "47c7989e",
   "metadata": {},
   "outputs": [
    {
     "name": "stderr",
     "output_type": "stream",
     "text": [
      "2022-07-22 23:47:34.844937: I tensorflow/core/grappler/optimizers/custom_graph_optimizer_registry.cc:113] Plugin optimizer for device_type GPU is enabled.\n"
     ]
    },
    {
     "name": "stdout",
     "output_type": "stream",
     "text": [
      "episode: 1/50, episode end value: 17780.18\n",
      "episode: 2/50, episode end value: 16966.98\n",
      "episode: 3/50, episode end value: 16564.18\n",
      "episode: 4/50, episode end value: 17393.17\n",
      "episode: 5/50, episode end value: 17780.18\n",
      "episode: 6/50, episode end value: 16100.10\n",
      "episode: 7/50, episode end value: 17685.45\n",
      "episode: 8/50, episode end value: 17788.91\n",
      "episode: 9/50, episode end value: 17780.18\n",
      "episode: 10/50, episode end value: 15053.02\n",
      "episode: 11/50, episode end value: 17780.18\n",
      "episode: 12/50, episode end value: 21813.93\n",
      "episode: 13/50, episode end value: 17780.18\n",
      "episode: 14/50, episode end value: 17974.52\n",
      "episode: 15/50, episode end value: 16582.61\n",
      "episode: 16/50, episode end value: 17786.43\n",
      "episode: 17/50, episode end value: 17643.15\n",
      "episode: 18/50, episode end value: 13066.15\n",
      "episode: 19/50, episode end value: 17630.15\n",
      "episode: 20/50, episode end value: 17780.18\n",
      "episode: 21/50, episode end value: 17780.18\n",
      "episode: 22/50, episode end value: 17170.04\n",
      "episode: 23/50, episode end value: 17780.18\n",
      "episode: 24/50, episode end value: 17215.74\n",
      "episode: 25/50, episode end value: 17788.16\n",
      "episode: 26/50, episode end value: 18207.36\n",
      "episode: 27/50, episode end value: 17187.59\n",
      "episode: 28/50, episode end value: 17930.98\n",
      "episode: 29/50, episode end value: 17865.05\n",
      "episode: 30/50, episode end value: 17780.18\n",
      "episode: 31/50, episode end value: 16599.85\n",
      "episode: 32/50, episode end value: 17780.18\n",
      "episode: 33/50, episode end value: 17725.16\n",
      "episode: 34/50, episode end value: 17653.37\n",
      "episode: 35/50, episode end value: 18307.89\n",
      "episode: 36/50, episode end value: 17320.16\n",
      "episode: 37/50, episode end value: 23292.87\n",
      "episode: 38/50, episode end value: 18201.07\n",
      "episode: 39/50, episode end value: 16852.07\n",
      "episode: 40/50, episode end value: 19683.35\n",
      "episode: 41/50, episode end value: 17297.88\n",
      "episode: 42/50, episode end value: 17887.36\n",
      "episode: 43/50, episode end value: 18771.93\n",
      "episode: 44/50, episode end value: 18951.57\n",
      "episode: 45/50, episode end value: 17780.18\n",
      "episode: 46/50, episode end value: 16400.87\n",
      "episode: 47/50, episode end value: 17780.18\n",
      "episode: 48/50, episode end value: 17787.83\n",
      "episode: 49/50, episode end value: 18954.00\n",
      "episode: 50/50, episode end value: 18119.05\n"
     ]
    }
   ],
   "source": [
    "test_output = test_trader(test_data = test_data,\n",
    "                          initial_investment = 20000,\n",
    "                          num_episodes = number_of_episodes,\n",
    "                          action_size = 5**3,\n",
    "                          model_path = r'DQN_Trained_Model',\n",
    "                          epsilon = 0.01\n",
    "                          )"
   ]
  },
  {
   "cell_type": "code",
   "execution_count": 30,
   "id": "766ffbbc",
   "metadata": {},
   "outputs": [
    {
     "data": {
      "text/plain": [
       "[17780.175674438477,\n",
       " 16966.97540283203,\n",
       " 16564.184661865234,\n",
       " 17393.166046142578,\n",
       " 17780.175674438477,\n",
       " 16100.098937988281,\n",
       " 17685.448928833008,\n",
       " 17788.910676956177,\n",
       " 17780.175674438477,\n",
       " 15053.020309448242,\n",
       " 17780.175674438477,\n",
       " 21813.931762695312,\n",
       " 17780.175674438477,\n",
       " 17974.52183532715,\n",
       " 16582.610565185547,\n",
       " 17786.428173065186,\n",
       " 17643.149940490723,\n",
       " 13066.145610809326,\n",
       " 17630.151653289795,\n",
       " 17780.175674438477,\n",
       " 17780.175674438477,\n",
       " 17170.039611816406,\n",
       " 17780.175674438477,\n",
       " 17215.743942260742,\n",
       " 17788.160675048828,\n",
       " 18207.363624572754,\n",
       " 17187.588943481445,\n",
       " 17930.980445861816,\n",
       " 17865.052759170532,\n",
       " 17780.175674438477,\n",
       " 16599.850757598877,\n",
       " 17780.175674438477,\n",
       " 17725.155990600586,\n",
       " 17653.37205505371,\n",
       " 18307.893117904663,\n",
       " 17320.159118652344,\n",
       " 23292.86693572998,\n",
       " 18201.065063476562,\n",
       " 16852.06983566284,\n",
       " 19683.349922180176,\n",
       " 17297.878341674805,\n",
       " 17887.360221862793,\n",
       " 18771.92869567871,\n",
       " 18951.566890716553,\n",
       " 17780.175674438477,\n",
       " 16400.86685180664,\n",
       " 17780.175674438477,\n",
       " 17787.828174591064,\n",
       " 18953.999969482422,\n",
       " 18119.046348571777]"
      ]
     },
     "execution_count": 30,
     "metadata": {},
     "output_type": "execute_result"
    }
   ],
   "source": [
    "test_output"
   ]
  },
  {
   "cell_type": "code",
   "execution_count": 31,
   "id": "eecf7101",
   "metadata": {},
   "outputs": [
    {
     "name": "stdout",
     "output_type": "stream",
     "text": [
      "episode: 1/50, episode end value: 24621.78\n",
      "episode: 2/50, episode end value: 5558.24\n",
      "episode: 3/50, episode end value: 13414.52\n",
      "episode: 4/50, episode end value: 22363.99\n",
      "episode: 5/50, episode end value: 24875.79\n",
      "episode: 6/50, episode end value: 15716.59\n",
      "episode: 7/50, episode end value: 14574.33\n",
      "episode: 8/50, episode end value: 17330.32\n",
      "episode: 9/50, episode end value: 14284.10\n",
      "episode: 10/50, episode end value: 17737.26\n",
      "episode: 11/50, episode end value: 21548.33\n",
      "episode: 12/50, episode end value: 12608.62\n",
      "episode: 13/50, episode end value: 18027.30\n",
      "episode: 14/50, episode end value: 7398.42\n",
      "episode: 15/50, episode end value: 12845.09\n",
      "episode: 16/50, episode end value: 12553.36\n",
      "episode: 17/50, episode end value: 12526.50\n",
      "episode: 18/50, episode end value: 11252.07\n",
      "episode: 19/50, episode end value: 22721.79\n",
      "episode: 20/50, episode end value: 16962.50\n",
      "episode: 21/50, episode end value: 16906.18\n",
      "episode: 22/50, episode end value: 15333.23\n",
      "episode: 23/50, episode end value: 20141.71\n",
      "episode: 24/50, episode end value: 14268.98\n",
      "episode: 25/50, episode end value: 11751.11\n",
      "episode: 26/50, episode end value: 20542.57\n",
      "episode: 27/50, episode end value: 14254.44\n",
      "episode: 28/50, episode end value: 10872.01\n",
      "episode: 29/50, episode end value: 13943.30\n",
      "episode: 30/50, episode end value: 12098.02\n",
      "episode: 31/50, episode end value: 12456.84\n",
      "episode: 32/50, episode end value: 11665.60\n",
      "episode: 33/50, episode end value: 12149.66\n",
      "episode: 34/50, episode end value: 15421.08\n",
      "episode: 35/50, episode end value: 27876.06\n",
      "episode: 36/50, episode end value: 23412.35\n",
      "episode: 37/50, episode end value: 17783.99\n",
      "episode: 38/50, episode end value: 13707.38\n",
      "episode: 39/50, episode end value: 15305.75\n",
      "episode: 40/50, episode end value: 11816.03\n",
      "episode: 41/50, episode end value: 15631.18\n",
      "episode: 42/50, episode end value: 15424.89\n",
      "episode: 43/50, episode end value: 20517.79\n",
      "episode: 44/50, episode end value: 15146.52\n",
      "episode: 45/50, episode end value: 20092.86\n",
      "episode: 46/50, episode end value: 12609.21\n",
      "episode: 47/50, episode end value: 27246.51\n",
      "episode: 48/50, episode end value: 20165.85\n",
      "episode: 49/50, episode end value: 20665.28\n",
      "episode: 50/50, episode end value: 10891.04\n"
     ]
    }
   ],
   "source": [
    "random_output = test_trader(test_data = test_data,\n",
    "                          initial_investment = 20000,\n",
    "                          num_episodes = number_of_episodes,\n",
    "                          action_size = 5**3,\n",
    "                          model_path = r'DQN_Trained_Model',\n",
    "                          epsilon = 1\n",
    "                          )"
   ]
  },
  {
   "cell_type": "code",
   "execution_count": 33,
   "id": "57e8d32c",
   "metadata": {},
   "outputs": [
    {
     "data": {
      "text/plain": [
       "[24621.775423049927,\n",
       " 5558.24405670166,\n",
       " 13414.519186019897,\n",
       " 22363.990383148193,\n",
       " 24875.78910446167,\n",
       " 15716.593446731567,\n",
       " 14574.329538345337,\n",
       " 17330.321271896362,\n",
       " 14284.095140457153,\n",
       " 17737.25922393799,\n",
       " 21548.327571868896,\n",
       " 12608.62475013733,\n",
       " 18027.296461105347,\n",
       " 7398.417930603027,\n",
       " 12845.08662223816,\n",
       " 12553.35692024231,\n",
       " 12526.50106048584,\n",
       " 11252.065031051636,\n",
       " 22721.791847229004,\n",
       " 16962.500549316406,\n",
       " 16906.177963256836,\n",
       " 15333.232133865356,\n",
       " 20141.714529037476,\n",
       " 14268.98052406311,\n",
       " 11751.105810165405,\n",
       " 20542.568243026733,\n",
       " 14254.438108444214,\n",
       " 10872.006275177002,\n",
       " 13943.297269821167,\n",
       " 12098.01582145691,\n",
       " 12456.841999053955,\n",
       " 11665.595302581787,\n",
       " 12149.663326263428,\n",
       " 15421.081508636475,\n",
       " 27876.060243606567,\n",
       " 23412.35431098938,\n",
       " 17783.98691177368,\n",
       " 13707.380187988281,\n",
       " 15305.75312614441,\n",
       " 11816.031307220459,\n",
       " 15631.18397140503,\n",
       " 15424.889846801758,\n",
       " 20517.793508529663,\n",
       " 15146.521217346191,\n",
       " 20092.862865447998,\n",
       " 12609.213060379028,\n",
       " 27246.509786605835,\n",
       " 20165.84917831421,\n",
       " 20665.283073425293,\n",
       " 10891.042055130005]"
      ]
     },
     "execution_count": 33,
     "metadata": {},
     "output_type": "execute_result"
    }
   ],
   "source": [
    "random_output"
   ]
  },
  {
   "cell_type": "code",
   "execution_count": 34,
   "id": "826b1e85",
   "metadata": {},
   "outputs": [
    {
     "data": {
      "text/plain": [
       "Text(0.5, 1.0, 'Training Portfolio')"
      ]
     },
     "execution_count": 34,
     "metadata": {},
     "output_type": "execute_result"
    },
    {
     "data": {
      "image/png": "[encoded data removed]",
      "text/plain": [
       "<Figure size 432x288 with 1 Axes>"
      ]
     },
     "metadata": {
      "needs_background": "light"
     },
     "output_type": "display_data"
    }
   ],
   "source": [
    "plt.plot(training_output)\n",
    "plt.title('Training Portfolio')"
   ]
  },
  {
   "cell_type": "code",
   "execution_count": 35,
   "id": "0489916a",
   "metadata": {},
   "outputs": [
    {
     "data": {
      "text/plain": [
       "Text(0.5, 1.0, 'Training Portfolio')"
      ]
     },
     "execution_count": 35,
     "metadata": {},
     "output_type": "execute_result"
    },
    {
     "data": {
      "image/png": "[encoded data removed]",
      "text/plain": [
       "<Figure size 432x288 with 1 Axes>"
      ]
     },
     "metadata": {
      "needs_background": "light"
     },
     "output_type": "display_data"
    }
   ],
   "source": [
    "plt.hist(training_output)\n",
    "plt.title('Training Portfolio')"
   ]
  },
  {
   "cell_type": "code",
   "execution_count": 36,
   "id": "7224e656",
   "metadata": {},
   "outputs": [
    {
     "data": {
      "text/plain": [
       "17731.640817832948"
      ]
     },
     "execution_count": 36,
     "metadata": {},
     "output_type": "execute_result"
    }
   ],
   "source": [
    "np.mean(test_output)"
   ]
  },
  {
   "cell_type": "code",
   "execution_count": 37,
   "id": "886dcbdc",
   "metadata": {},
   "outputs": [
    {
     "data": {
      "text/plain": [
       "Text(0.5, 1.0, 'Test Portfolio')"
      ]
     },
     "execution_count": 37,
     "metadata": {},
     "output_type": "execute_result"
    },
    {
     "data": {
      "image/png": "[encoded data removed]",
      "text/plain": [
       "<Figure size 432x288 with 1 Axes>"
      ]
     },
     "metadata": {
      "needs_background": "light"
     },
     "output_type": "display_data"
    }
   ],
   "source": [
    "plt.hist(test_output)\n",
    "plt.title('Test Portfolio')"
   ]
  },
  {
   "cell_type": "code",
   "execution_count": 38,
   "id": "08dadb64",
   "metadata": {},
   "outputs": [
    {
     "data": {
      "text/plain": [
       "Text(0.5, 1.0, 'Random Portfolio')"
      ]
     },
     "execution_count": 38,
     "metadata": {},
     "output_type": "execute_result"
    },
    {
     "data": {
      "image/png": "[encoded data removed]",
      "text/plain": [
       "<Figure size 432x288 with 1 Axes>"
      ]
     },
     "metadata": {
      "needs_background": "light"
     },
     "output_type": "display_data"
    }
   ],
   "source": [
    "plt.hist(random_output)\n",
    "plt.title('Random Portfolio')"
   ]
  },
  {
   "cell_type": "code",
   "execution_count": 39,
   "id": "e8b314c9",
   "metadata": {},
   "outputs": [
    {
     "data": {
      "text/plain": [
       "16180.366379699706"
      ]
     },
     "execution_count": 39,
     "metadata": {},
     "output_type": "execute_result"
    }
   ],
   "source": [
    "np.mean(random_output)"
   ]
  },
  {
   "cell_type": "code",
   "execution_count": 40,
   "id": "e8a199e7",
   "metadata": {},
   "outputs": [
    {
     "data": {
      "text/plain": [
       "-0.10203749135640025"
      ]
     },
     "execution_count": 40,
     "metadata": {},
     "output_type": "execute_result"
    }
   ],
   "source": [
    "test_data[-1]\n",
    "PercentIncrease=(test_data[-1]-test_data[0])/test_data[0]\n",
    "np.mean(PercentIncrease)"
   ]
  }
 ],
 "metadata": {
  "kernelspec": {
   "display_name": "Python 3 (ipykernel)",
   "language": "python",
   "name": "python3"
  },
  "language_info": {
   "codemirror_mode": {
    "name": "ipython",
    "version": 3
   },
   "file_extension": ".py",
   "mimetype": "text/x-python",
   "name": "python",
   "nbconvert_exporter": "python",
   "pygments_lexer": "ipython3",
   "version": "3.9.7"
  }
 },
 "nbformat": 4,
 "nbformat_minor": 5
}
